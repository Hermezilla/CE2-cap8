{
  "nbformat": 4,
  "nbformat_minor": 0,
  "metadata": {
    "colab": {
      "name": "CE2-Hermes-Unidade8",
      "provenance": []
    },
    "kernelspec": {
      "name": "python3",
      "display_name": "Python 3"
    }
  },
  "cells": [
    {
      "cell_type": "markdown",
      "metadata": {
        "id": "kuxTeECq4qBm"
      },
      "source": [
        "#Unidade 8 - Exercícios não resolvidos\n",
        "## Hermes Gomes Araujo (190099682)"
      ]
    },
    {
      "cell_type": "code",
      "metadata": {
        "colab": {
          "base_uri": "https://localhost:8080/"
        },
        "id": "u-xW-cCuNAXx",
        "outputId": "e24eb282-f40a-4a5f-9d4f-982311b84679"
      },
      "source": [
        "import random\n",
        "\n",
        "def escolhe(matricula):\n",
        "    random.seed(matricula)\n",
        "    cap1 = (2,8,9,11,12,15,16,18,20,21,22,24,26,27,28,30,31,32)    \n",
        "    cap2 = (36,40,44,45,46,48,50,51,53,55,56,57,59,60)\n",
        "    cap3 = (63,64,65,68,71,72,74,76,78,80,81,84)\n",
        "    cap4 = (85,86,87,89,91,92,94,97,99,101,103,104,106)\n",
        "    cap5 = (111,115,117,118,119,122,123,124,126,127,131,132,133)\n",
        "    cap6 = (138,139,140,141,144,147,148)\n",
        "    cap7 = (152,153,154,155,157,160,161,164,165,166,168,171,172)\n",
        "    cap8 = (174,175,176,177,179,181,182,185)\n",
        "    return(random.sample(cap8, k=2))\n",
        "\n",
        "print(\"Você deverá entregar os exercícios: \", escolhe(input(\"Escreva o número de sua matricula: \")))"
      ],
      "execution_count": 1,
      "outputs": [
        {
          "output_type": "stream",
          "text": [
            "Escreva o número de sua matricula: 190099682\n",
            "Você deverá entregar os exercícios:  [182, 179]\n"
          ],
          "name": "stdout"
        }
      ]
    },
    {
      "cell_type": "markdown",
      "metadata": {
        "id": "l_q8Y3bf41Li"
      },
      "source": [
        "###**Exercise 179: Recursive Square Root**\n",
        "(20 Lines)\n",
        "Exercise 74 explored how iteration can be used to compute the square root of a\n",
        "number. In that exercise a better approximation of the square root was generated with\n",
        "each additional loop iteration. In this exercise you will use the same approximation\n",
        "strategy, but you will use recursion instead of a loop.\n",
        "\n",
        "Create a square root function with two parameters. The first parameter, n, will\n",
        "be the number for which the square root is being computed. The second parameter,\n",
        "guess, will be the current guess for the square root. The guess parameter should have\n",
        "a default value of 1.0. Do not provide a default value for the first parameter.\n",
        "\n",
        "[...]\n",
        "\n",
        "Write a main program that demonstrate your square root function by computing\n",
        "the square root of several different values. When you call your square root function\n",
        "from the main program you should only pass one parameter to it so that the default\n",
        "value is used for guess."
      ]
    },
    {
      "cell_type": "code",
      "metadata": {
        "colab": {
          "base_uri": "https://localhost:8080/"
        },
        "id": "tnbM7Dp24lys",
        "outputId": "550214df-d42b-4be2-eed6-330f9cc4288c"
      },
      "source": [
        "def raizRecursiva(n,guess=1.0):\n",
        "  if abs(guess*guess - n) < 10**(-12):\n",
        "    return guess\n",
        "  else:\n",
        "    aux = ( guess + (n / guess) ) / 2\n",
        "    return raizRecursiva(n,aux)\n",
        "\n",
        "print(\"A raiz quadrada de 9 é \"+str(raizRecursiva(9)))\n",
        "print(\"A raiz quadrada de 81 é \"+str(raizRecursiva(81)))\n",
        "print(\"A raiz quadrada de 144 é \"+str(raizRecursiva(144)))\n",
        "print(\"A raiz quadrada de 6561 é \"+str(raizRecursiva(6561)))\n"
      ],
      "execution_count": 4,
      "outputs": [
        {
          "output_type": "stream",
          "text": [
            "A raiz quadrada de 9 é 3.0\n",
            "A raiz quadrada de 81 é 9.0\n",
            "A raiz quadrada de 144 é 12.0\n",
            "A raiz quadrada de 6561 é 81.0\n"
          ],
          "name": "stdout"
        }
      ]
    },
    {
      "cell_type": "markdown",
      "metadata": {
        "id": "lfAgp4HH5hzu"
      },
      "source": [
        "###**Exercise 182: Spelling with Element Symbols**\n",
        "(67 Lines)\n",
        "Each chemical element has a standard symbol that is one, two or three letters long.\n",
        "One game that some people like to play is to determine whether or not a word can be\n",
        "spelled using only element symbols. For example, silicon can be spelled using the\n",
        "symbols Si, Li, C, O and N. However, hydrogen cannot be spelled with any combination of element symbols.\n",
        "\n",
        "Write a recursive function that determines whether or not a word can be spelled\n",
        "using only element symbols. Your function will require two parameters: the word that you are trying to spell and a list of the symbols that can be used. It will return a\n",
        "string containing the symbols used to achieve the spelling as its result, or an empty\n",
        "string if no spelling exists. Capitalization should be ignored when your function\n",
        "searches for a spelling.\n",
        "\n",
        "Create a program that uses your function to find and display all of the element\n",
        "names that can be spelled using only element symbols. Display the names of the elements along with the sequences of symbols. For example, one line of your output\n",
        "will be:\n",
        "\n",
        "Silver can be spelled as SiLvEr\n",
        "\n",
        "Your program will use the elements data set, which can be downloaded from the\n",
        "author’s website. This data set includes the names and symbols of all 118 chemical\n",
        "elements.\n"
      ]
    },
    {
      "cell_type": "code",
      "metadata": {
        "id": "2z8f1ypcy_Ye"
      },
      "source": [
        "import sys"
      ],
      "execution_count": 5,
      "outputs": []
    },
    {
      "cell_type": "code",
      "metadata": {
        "id": "NIFsncCbzHYl"
      },
      "source": [
        "text = open(\"/content/elements.txt\", \"r\")\n",
        "\n",
        "symbols = []\n",
        "elements = []\n",
        "\n",
        "line = text.readline()\n",
        "while line != \"\":\n",
        "  aux = line.split(\",\")\n",
        "  symbols.append(aux[1])\n",
        "  elements.append(aux[2].replace(\"\\n\",\"\"))\n",
        "\n",
        "  line = text.readline()\n",
        "\n",
        "text.close()"
      ],
      "execution_count": 43,
      "outputs": []
    },
    {
      "cell_type": "code",
      "metadata": {
        "id": "DNMcImNX5Y0s"
      },
      "source": [
        "def daPraSoletrar(palavra,lista):\n",
        "  listaCAPS = [x.upper() for x in lista]\n",
        "\n",
        "  if palavra == \"\":\n",
        "    return \"\"\n",
        "  elif palavra[:3].upper() in listaCAPS:\n",
        "    idx = listaCAPS.index(palavra[:3].upper())\n",
        "    return lista[idx] + daPraSoletrar(palavra[3:],lista)\n",
        "  elif palavra[:2].upper() in listaCAPS:\n",
        "    idx = listaCAPS.index(palavra[:2].upper())\n",
        "    return lista[idx] + daPraSoletrar(palavra[2:],lista)\n",
        "  elif palavra[:1].upper() in listaCAPS:\n",
        "    idx = listaCAPS.index(palavra[:1].upper())\n",
        "    return lista[idx] + daPraSoletrar(palavra[1:],lista)\n",
        "  else:\n",
        "    return \"\""
      ],
      "execution_count": 38,
      "outputs": []
    },
    {
      "cell_type": "code",
      "metadata": {
        "colab": {
          "base_uri": "https://localhost:8080/"
        },
        "id": "s1I1V9Uuzzlj",
        "outputId": "eab31219-8988-4ad5-950f-97a8c88fa472"
      },
      "source": [
        "for element in elements:\n",
        "  if daPraSoletrar(element,symbols).upper() == element.upper():\n",
        "    print(element+\" pode ser soletrado como \"+daPraSoletrar(element,symbols))"
      ],
      "execution_count": 45,
      "outputs": [
        {
          "output_type": "stream",
          "text": [
            "Carbon pode ser soletrado como CaRbON\n",
            "Neon pode ser soletrado como NeON\n",
            "Silicon pode ser soletrado como SiLiCoN\n",
            "Phosphorus pode ser soletrado como PHoSPHoRuS\n",
            "Iron pode ser soletrado como IrON\n",
            "Copper pode ser soletrado como CoPPEr\n",
            "Arsenic pode ser soletrado como ArSeNiC\n",
            "Krypton pode ser soletrado como KrYPtON\n",
            "Silver pode ser soletrado como SiLvEr\n",
            "Tin pode ser soletrado como TiN\n",
            "Xenon pode ser soletrado como XeNoN\n",
            "Bismuth pode ser soletrado como BiSmUTh\n",
            "Astatine pode ser soletrado como AsTaTiNe\n"
          ],
          "name": "stdout"
        }
      ]
    },
    {
      "cell_type": "code",
      "metadata": {
        "colab": {
          "base_uri": "https://localhost:8080/"
        },
        "id": "LWRLd56STXy3",
        "outputId": "8e9d7184-9a75-44d7-e718-f6030fd80244"
      },
      "source": [
        "%%shell\n",
        "jupyter nbconvert --to html /content/CE2_Hermes_Unidade8.ipynb"
      ],
      "execution_count": null,
      "outputs": [
        {
          "output_type": "stream",
          "text": [
            "[NbConvertApp] Converting notebook /content/CE2_Hermes_Unidade7.ipynb to html\n",
            "[NbConvertApp] Writing 311926 bytes to /content/CE2_Hermes_Unidade7.html\n"
          ],
          "name": "stdout"
        },
        {
          "output_type": "execute_result",
          "data": {
            "text/plain": [
              ""
            ]
          },
          "metadata": {
            "tags": []
          },
          "execution_count": 61
        }
      ]
    }
  ]
}